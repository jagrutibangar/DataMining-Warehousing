{
 "cells": [
  {
   "cell_type": "code",
   "execution_count": 3,
   "metadata": {},
   "outputs": [],
   "source": [
    "import pandas as pd\n",
    "import numpy as np"
   ]
  },
  {
   "cell_type": "code",
   "execution_count": 4,
   "metadata": {},
   "outputs": [],
   "source": [
    "\n",
    "from collections import defaultdict, Counter\n",
    "from itertools import combinations"
   ]
  },
  {
   "cell_type": "code",
   "execution_count": 5,
   "metadata": {},
   "outputs": [],
   "source": [
    "transactions = [\n",
    "    ['bread', 'milk', 'eggs'],\n",
    "    ['bread', 'diapers', 'beer', 'cola'],\n",
    "    ['milk', 'diapers', 'beer', 'chips'],\n",
    "    ['bread', 'milk', 'diapers', 'beer'],\n",
    "    ['bread', 'milk', 'eggs', 'cola'],\n",
    "    ['bread', 'diapers', 'milk'],\n",
    "    ['beer', 'diapers', 'eggs'],\n",
    "    ['bread', 'beer', 'chips'],\n",
    "    ['bread', 'milk', 'diapers'],\n",
    "    ['milk', 'eggs', 'cola']\n",
    "]\n"
   ]
  },
  {
   "cell_type": "code",
   "execution_count": 6,
   "metadata": {},
   "outputs": [],
   "source": [
    "def calculate_item_frequencies(transactions):\n",
    "   \n",
    "    item_freq = defaultdict(int)\n",
    "    for transaction in transactions:\n",
    "        for item in transaction:\n",
    "            item_freq[item] += 1\n",
    "    return item_freq\n"
   ]
  },
  {
   "cell_type": "code",
   "execution_count": 7,
   "metadata": {},
   "outputs": [
    {
     "name": "stdout",
     "output_type": "stream",
     "text": [
      "defaultdict(<class 'int'>, {'bread': 7, 'milk': 7, 'eggs': 4, 'diapers': 6, 'beer': 5, 'cola': 3, 'chips': 2})\n"
     ]
    }
   ],
   "source": [
    "freq = calculate_item_frequencies(transactions)\n",
    "print(freq)"
   ]
  },
  {
   "cell_type": "code",
   "execution_count": 8,
   "metadata": {},
   "outputs": [],
   "source": [
    "def filter_transactions(transactions, item_frequencies, min_support=2):\n",
    "    # Identify frequent items\n",
    "    frequent_items = {\n",
    "        item for item, count in item_frequencies.items() \n",
    "        if count >= min_support\n",
    "    }\n",
    "    \n",
    "    # Sort transactions by item frequency\n",
    "    def sort_key(item):\n",
    "        return item_frequencies.get(item, 0)\n",
    "    \n",
    "    filtered_transactions = []\n",
    "    for transaction in transactions:\n",
    "        # Filter and sort items within each transaction\n",
    "        sorted_trans = sorted(\n",
    "            [item for item in transaction if item in frequent_items], \n",
    "            key=sort_key, \n",
    "            reverse=True\n",
    "        )\n",
    "        if sorted_trans:\n",
    "            filtered_transactions.append(sorted_trans)\n",
    "    \n",
    "    return filtered_transactions\n"
   ]
  },
  {
   "cell_type": "code",
   "execution_count": 9,
   "metadata": {},
   "outputs": [
    {
     "name": "stdout",
     "output_type": "stream",
     "text": [
      "[['bread', 'milk', 'eggs'], ['bread', 'diapers', 'beer', 'cola'], ['milk', 'diapers', 'beer', 'chips'], ['bread', 'milk', 'diapers', 'beer'], ['bread', 'milk', 'eggs', 'cola'], ['bread', 'milk', 'diapers'], ['diapers', 'beer', 'eggs'], ['bread', 'beer', 'chips'], ['bread', 'milk', 'diapers'], ['milk', 'eggs', 'cola']]\n"
     ]
    }
   ],
   "source": [
    "filtered = filter_transactions(transactions, freq, min_support=2)\n",
    "print(filtered)"
   ]
  },
  {
   "cell_type": "code",
   "execution_count": null,
   "metadata": {},
   "outputs": [
    {
     "name": "stdout",
     "output_type": "stream",
     "text": [
      "\n"
     ]
    }
   ],
   "source": [
    "\n",
    "def construct_fp_tree(transactions):\n",
    "    # Calculate Item Frequencies\n",
    "    item_frequencies = {}\n",
    "    for transaction in transactions:\n",
    "        for item in transaction:\n",
    "            item_frequencies[item] = item_frequencies.get(item, 0) + 1\n",
    "    \n",
    "    print(\"Step 1: Item Frequencies\")\n",
    "    print(item_frequencies)\n",
    "    print(\"\\n\")\n",
    "    \n",
    "    # Sort and Filter Transactions\n",
    "    def sort_transaction(transaction):\n",
    "        return sorted(transaction, key=lambda x: item_frequencies.get(x, 0), reverse=True)\n",
    "    \n",
    "    sorted_transactions = [sort_transaction(trans) for trans in transactions]\n",
    "    \n",
    "    print(\"Step 2: Sorted Transactions\")\n",
    "    for i, trans in enumerate(sorted_transactions, 1):\n",
    "        print(f\"T{i}: {trans}\")\n",
    "    print(\"\\n\" )\n",
    "    \n",
    "    # Initialize FP-Tree\n",
    "    fp_tree = {\n",
    "        'root': {\n",
    "            'item': None,\n",
    "            'count': 0,\n",
    "            'children': {},\n",
    "            'parent': None\n",
    "        }\n",
    "    }\n",
    "    header_table = {}\n",
    "    \n",
    "    # Build FP-Tree\n",
    "    tree_building_steps = []\n",
    "    \n",
    "    for transaction_num, transaction in enumerate(sorted_transactions, 1):\n",
    "        current_node = fp_tree['root']\n",
    "        path = []\n",
    "        \n",
    "        for item in transaction:\n",
    "            # If item not in children, create new node\n",
    "            if item not in current_node['children']:\n",
    "                new_node = {\n",
    "                    'item': item,\n",
    "                    'count': 1,\n",
    "                    'children': {},\n",
    "                    'parent': current_node\n",
    "                }\n",
    "                current_node['children'][item] = new_node\n",
    "                \n",
    "                # Update header table\n",
    "                if item not in header_table:\n",
    "                    header_table[item] = new_node\n",
    "                \n",
    "                # Track tree building step\n",
    "                path.append(f\"T{transaction_num}: Added {item} (New Node)\")\n",
    "            else:\n",
    "                # Increment count of existing node\n",
    "                current_node['children'][item]['count'] += 1\n",
    "                path.append(f\"T{transaction_num}: Incremented {item}\")\n",
    "            \n",
    "            # Move to current item's node\n",
    "            current_node = current_node['children'][item]\n",
    "        \n",
    "        # Store building steps for this transaction\n",
    "        tree_building_steps.append(path)\n",
    "    \n",
    "    #Print Tree Building Steps\n",
    "    print(\"Step 3: Tree Building Steps\")\n",
    "    for i, steps in enumerate(tree_building_steps, 1):\n",
    "        print(f\"Transaction {i} Steps:\")\n",
    "        for step in steps:\n",
    "            print(f\"  {step}\")\n",
    "            print()\n",
    "        print()\n",
    "    print(\"\\n\")\n",
    "    \n",
    "    print(\"Step 4: Tree Structure Analysis\")\n",
    "    def analyze_tree(node, level=0):\n",
    "        indent = \"  \" * level\n",
    "        if node['item'] is not None:\n",
    "            print(f\"{indent}{node['item']} (Count: {node['count']})\")\n",
    "        \n",
    "        for child in node['children'].values():\n",
    "            analyze_tree(child, level + 1)\n",
    "    \n",
    "    print(\"Tree Hierarchy:\")\n",
    "    analyze_tree(fp_tree['root'])\n",
    "    print(\"\\n\")\n",
    "    \n",
    "    print(\"Step 5: Header Table\")\n",
    "    print(\"Items in Header Table:\")\n",
    "    for item, node in header_table.items():\n",
    "        print(f\"{item}: First Node Count = {node['count']}\")\n",
    "        print()\n",
    "    \n",
    "    return {\n",
    "        'fp_tree': fp_tree,\n",
    "        'header_table': header_table,\n",
    "        'item_frequencies': item_frequencies,\n",
    "        'transactions': transactions\n",
    "    }"
   ]
  },
  {
   "cell_type": "code",
   "execution_count": 17,
   "metadata": {},
   "outputs": [
    {
     "name": "stdout",
     "output_type": "stream",
     "text": [
      "Step 1: Item Frequencies\n",
      "{'bread': 7, 'milk': 7, 'eggs': 4, 'diapers': 6, 'beer': 5, 'cola': 3, 'chips': 2}\n",
      "\n",
      "==================================================\n",
      "Step 2: Sorted Transactions\n",
      "T1: ['bread', 'milk', 'eggs']\n",
      "T2: ['bread', 'diapers', 'beer', 'cola']\n",
      "T3: ['milk', 'diapers', 'beer', 'chips']\n",
      "T4: ['bread', 'milk', 'diapers', 'beer']\n",
      "T5: ['bread', 'milk', 'eggs', 'cola']\n",
      "T6: ['bread', 'milk', 'diapers']\n",
      "T7: ['diapers', 'beer', 'eggs']\n",
      "T8: ['bread', 'beer', 'chips']\n",
      "T9: ['bread', 'milk', 'diapers']\n",
      "T10: ['milk', 'eggs', 'cola']\n",
      "\n",
      "==================================================\n",
      "Step 3: Tree Building Steps\n",
      "Transaction 1 Steps:\n",
      "  T1: Added bread (New Node)\n",
      "  T1: Added milk (New Node)\n",
      "  T1: Added eggs (New Node)\n",
      "\n",
      "Transaction 2 Steps:\n",
      "  T2: Incremented bread\n",
      "  T2: Added diapers (New Node)\n",
      "  T2: Added beer (New Node)\n",
      "  T2: Added cola (New Node)\n",
      "\n",
      "Transaction 3 Steps:\n",
      "  T3: Added milk (New Node)\n",
      "  T3: Added diapers (New Node)\n",
      "  T3: Added beer (New Node)\n",
      "  T3: Added chips (New Node)\n",
      "\n",
      "Transaction 4 Steps:\n",
      "  T4: Incremented bread\n",
      "  T4: Incremented milk\n",
      "  T4: Added diapers (New Node)\n",
      "  T4: Added beer (New Node)\n",
      "\n",
      "Transaction 5 Steps:\n",
      "  T5: Incremented bread\n",
      "  T5: Incremented milk\n",
      "  T5: Incremented eggs\n",
      "  T5: Added cola (New Node)\n",
      "\n",
      "Transaction 6 Steps:\n",
      "  T6: Incremented bread\n",
      "  T6: Incremented milk\n",
      "  T6: Incremented diapers\n",
      "\n",
      "Transaction 7 Steps:\n",
      "  T7: Added diapers (New Node)\n",
      "  T7: Added beer (New Node)\n",
      "  T7: Added eggs (New Node)\n",
      "\n",
      "Transaction 8 Steps:\n",
      "  T8: Incremented bread\n",
      "  T8: Added beer (New Node)\n",
      "  T8: Added chips (New Node)\n",
      "\n",
      "Transaction 9 Steps:\n",
      "  T9: Incremented bread\n",
      "  T9: Incremented milk\n",
      "  T9: Incremented diapers\n",
      "\n",
      "Transaction 10 Steps:\n",
      "  T10: Incremented milk\n",
      "  T10: Added eggs (New Node)\n",
      "  T10: Added cola (New Node)\n",
      "\n",
      "==================================================\n",
      "Step 4: Tree Structure Analysis\n",
      "Tree Hierarchy:\n",
      "  bread (Count: 7)\n",
      "    milk (Count: 5)\n",
      "      eggs (Count: 2)\n",
      "        cola (Count: 1)\n",
      "      diapers (Count: 3)\n",
      "        beer (Count: 1)\n",
      "    diapers (Count: 1)\n",
      "      beer (Count: 1)\n",
      "        cola (Count: 1)\n",
      "    beer (Count: 1)\n",
      "      chips (Count: 1)\n",
      "  milk (Count: 2)\n",
      "    diapers (Count: 1)\n",
      "      beer (Count: 1)\n",
      "        chips (Count: 1)\n",
      "    eggs (Count: 1)\n",
      "      cola (Count: 1)\n",
      "  diapers (Count: 1)\n",
      "    beer (Count: 1)\n",
      "      eggs (Count: 1)\n",
      "\n",
      "==================================================\n",
      "Step 5: Header Table\n",
      "Items in Header Table:\n",
      "bread: First Node Count = 7\n",
      "milk: First Node Count = 5\n",
      "eggs: First Node Count = 2\n",
      "diapers: First Node Count = 1\n",
      "beer: First Node Count = 1\n",
      "cola: First Node Count = 1\n",
      "chips: First Node Count = 1\n",
      "{'fp_tree': {'root': {'item': None, 'count': 0, 'children': {'bread': {'item': 'bread', 'count': 7, 'children': {'milk': {'item': 'milk', 'count': 5, 'children': {'eggs': {'item': 'eggs', 'count': 2, 'children': {'cola': {'item': 'cola', 'count': 1, 'children': {}, 'parent': {...}}}, 'parent': {...}}, 'diapers': {'item': 'diapers', 'count': 3, 'children': {'beer': {'item': 'beer', 'count': 1, 'children': {}, 'parent': {...}}}, 'parent': {...}}}, 'parent': {...}}, 'diapers': {'item': 'diapers', 'count': 1, 'children': {'beer': {'item': 'beer', 'count': 1, 'children': {'cola': {'item': 'cola', 'count': 1, 'children': {}, 'parent': {...}}}, 'parent': {...}}}, 'parent': {...}}, 'beer': {'item': 'beer', 'count': 1, 'children': {'chips': {'item': 'chips', 'count': 1, 'children': {}, 'parent': {...}}}, 'parent': {...}}}, 'parent': {...}}, 'milk': {'item': 'milk', 'count': 2, 'children': {'diapers': {'item': 'diapers', 'count': 1, 'children': {'beer': {'item': 'beer', 'count': 1, 'children': {'chips': {'item': 'chips', 'count': 1, 'children': {}, 'parent': {...}}}, 'parent': {...}}}, 'parent': {...}}, 'eggs': {'item': 'eggs', 'count': 1, 'children': {'cola': {'item': 'cola', 'count': 1, 'children': {}, 'parent': {...}}}, 'parent': {...}}}, 'parent': {...}}, 'diapers': {'item': 'diapers', 'count': 1, 'children': {'beer': {'item': 'beer', 'count': 1, 'children': {'eggs': {'item': 'eggs', 'count': 1, 'children': {}, 'parent': {...}}}, 'parent': {...}}}, 'parent': {...}}}, 'parent': None}}, 'header_table': {'bread': {'item': 'bread', 'count': 7, 'children': {'milk': {'item': 'milk', 'count': 5, 'children': {'eggs': {'item': 'eggs', 'count': 2, 'children': {'cola': {'item': 'cola', 'count': 1, 'children': {}, 'parent': {...}}}, 'parent': {...}}, 'diapers': {'item': 'diapers', 'count': 3, 'children': {'beer': {'item': 'beer', 'count': 1, 'children': {}, 'parent': {...}}}, 'parent': {...}}}, 'parent': {...}}, 'diapers': {'item': 'diapers', 'count': 1, 'children': {'beer': {'item': 'beer', 'count': 1, 'children': {'cola': {'item': 'cola', 'count': 1, 'children': {}, 'parent': {...}}}, 'parent': {...}}}, 'parent': {...}}, 'beer': {'item': 'beer', 'count': 1, 'children': {'chips': {'item': 'chips', 'count': 1, 'children': {}, 'parent': {...}}}, 'parent': {...}}}, 'parent': {'item': None, 'count': 0, 'children': {'bread': {...}, 'milk': {'item': 'milk', 'count': 2, 'children': {'diapers': {'item': 'diapers', 'count': 1, 'children': {'beer': {'item': 'beer', 'count': 1, 'children': {'chips': {'item': 'chips', 'count': 1, 'children': {}, 'parent': {...}}}, 'parent': {...}}}, 'parent': {...}}, 'eggs': {'item': 'eggs', 'count': 1, 'children': {'cola': {'item': 'cola', 'count': 1, 'children': {}, 'parent': {...}}}, 'parent': {...}}}, 'parent': {...}}, 'diapers': {'item': 'diapers', 'count': 1, 'children': {'beer': {'item': 'beer', 'count': 1, 'children': {'eggs': {'item': 'eggs', 'count': 1, 'children': {}, 'parent': {...}}}, 'parent': {...}}}, 'parent': {...}}}, 'parent': None}}, 'milk': {'item': 'milk', 'count': 5, 'children': {'eggs': {'item': 'eggs', 'count': 2, 'children': {'cola': {'item': 'cola', 'count': 1, 'children': {}, 'parent': {...}}}, 'parent': {...}}, 'diapers': {'item': 'diapers', 'count': 3, 'children': {'beer': {'item': 'beer', 'count': 1, 'children': {}, 'parent': {...}}}, 'parent': {...}}}, 'parent': {'item': 'bread', 'count': 7, 'children': {'milk': {...}, 'diapers': {'item': 'diapers', 'count': 1, 'children': {'beer': {'item': 'beer', 'count': 1, 'children': {'cola': {'item': 'cola', 'count': 1, 'children': {}, 'parent': {...}}}, 'parent': {...}}}, 'parent': {...}}, 'beer': {'item': 'beer', 'count': 1, 'children': {'chips': {'item': 'chips', 'count': 1, 'children': {}, 'parent': {...}}}, 'parent': {...}}}, 'parent': {'item': None, 'count': 0, 'children': {'bread': {...}, 'milk': {'item': 'milk', 'count': 2, 'children': {'diapers': {'item': 'diapers', 'count': 1, 'children': {'beer': {'item': 'beer', 'count': 1, 'children': {'chips': {'item': 'chips', 'count': 1, 'children': {}, 'parent': {...}}}, 'parent': {...}}}, 'parent': {...}}, 'eggs': {'item': 'eggs', 'count': 1, 'children': {'cola': {'item': 'cola', 'count': 1, 'children': {}, 'parent': {...}}}, 'parent': {...}}}, 'parent': {...}}, 'diapers': {'item': 'diapers', 'count': 1, 'children': {'beer': {'item': 'beer', 'count': 1, 'children': {'eggs': {'item': 'eggs', 'count': 1, 'children': {}, 'parent': {...}}}, 'parent': {...}}}, 'parent': {...}}}, 'parent': None}}}, 'eggs': {'item': 'eggs', 'count': 2, 'children': {'cola': {'item': 'cola', 'count': 1, 'children': {}, 'parent': {...}}}, 'parent': {'item': 'milk', 'count': 5, 'children': {'eggs': {...}, 'diapers': {'item': 'diapers', 'count': 3, 'children': {'beer': {'item': 'beer', 'count': 1, 'children': {}, 'parent': {...}}}, 'parent': {...}}}, 'parent': {'item': 'bread', 'count': 7, 'children': {'milk': {...}, 'diapers': {'item': 'diapers', 'count': 1, 'children': {'beer': {'item': 'beer', 'count': 1, 'children': {'cola': {'item': 'cola', 'count': 1, 'children': {}, 'parent': {...}}}, 'parent': {...}}}, 'parent': {...}}, 'beer': {'item': 'beer', 'count': 1, 'children': {'chips': {'item': 'chips', 'count': 1, 'children': {}, 'parent': {...}}}, 'parent': {...}}}, 'parent': {'item': None, 'count': 0, 'children': {'bread': {...}, 'milk': {'item': 'milk', 'count': 2, 'children': {'diapers': {'item': 'diapers', 'count': 1, 'children': {'beer': {'item': 'beer', 'count': 1, 'children': {'chips': {'item': 'chips', 'count': 1, 'children': {}, 'parent': {...}}}, 'parent': {...}}}, 'parent': {...}}, 'eggs': {'item': 'eggs', 'count': 1, 'children': {'cola': {'item': 'cola', 'count': 1, 'children': {}, 'parent': {...}}}, 'parent': {...}}}, 'parent': {...}}, 'diapers': {'item': 'diapers', 'count': 1, 'children': {'beer': {'item': 'beer', 'count': 1, 'children': {'eggs': {'item': 'eggs', 'count': 1, 'children': {}, 'parent': {...}}}, 'parent': {...}}}, 'parent': {...}}}, 'parent': None}}}}, 'diapers': {'item': 'diapers', 'count': 1, 'children': {'beer': {'item': 'beer', 'count': 1, 'children': {'cola': {'item': 'cola', 'count': 1, 'children': {}, 'parent': {...}}}, 'parent': {...}}}, 'parent': {'item': 'bread', 'count': 7, 'children': {'milk': {'item': 'milk', 'count': 5, 'children': {'eggs': {'item': 'eggs', 'count': 2, 'children': {'cola': {'item': 'cola', 'count': 1, 'children': {}, 'parent': {...}}}, 'parent': {...}}, 'diapers': {'item': 'diapers', 'count': 3, 'children': {'beer': {'item': 'beer', 'count': 1, 'children': {}, 'parent': {...}}}, 'parent': {...}}}, 'parent': {...}}, 'diapers': {...}, 'beer': {'item': 'beer', 'count': 1, 'children': {'chips': {'item': 'chips', 'count': 1, 'children': {}, 'parent': {...}}}, 'parent': {...}}}, 'parent': {'item': None, 'count': 0, 'children': {'bread': {...}, 'milk': {'item': 'milk', 'count': 2, 'children': {'diapers': {'item': 'diapers', 'count': 1, 'children': {'beer': {'item': 'beer', 'count': 1, 'children': {'chips': {'item': 'chips', 'count': 1, 'children': {}, 'parent': {...}}}, 'parent': {...}}}, 'parent': {...}}, 'eggs': {'item': 'eggs', 'count': 1, 'children': {'cola': {'item': 'cola', 'count': 1, 'children': {}, 'parent': {...}}}, 'parent': {...}}}, 'parent': {...}}, 'diapers': {'item': 'diapers', 'count': 1, 'children': {'beer': {'item': 'beer', 'count': 1, 'children': {'eggs': {'item': 'eggs', 'count': 1, 'children': {}, 'parent': {...}}}, 'parent': {...}}}, 'parent': {...}}}, 'parent': None}}}, 'beer': {'item': 'beer', 'count': 1, 'children': {'cola': {'item': 'cola', 'count': 1, 'children': {}, 'parent': {...}}}, 'parent': {'item': 'diapers', 'count': 1, 'children': {'beer': {...}}, 'parent': {'item': 'bread', 'count': 7, 'children': {'milk': {'item': 'milk', 'count': 5, 'children': {'eggs': {'item': 'eggs', 'count': 2, 'children': {'cola': {'item': 'cola', 'count': 1, 'children': {}, 'parent': {...}}}, 'parent': {...}}, 'diapers': {'item': 'diapers', 'count': 3, 'children': {'beer': {'item': 'beer', 'count': 1, 'children': {}, 'parent': {...}}}, 'parent': {...}}}, 'parent': {...}}, 'diapers': {...}, 'beer': {'item': 'beer', 'count': 1, 'children': {'chips': {'item': 'chips', 'count': 1, 'children': {}, 'parent': {...}}}, 'parent': {...}}}, 'parent': {'item': None, 'count': 0, 'children': {'bread': {...}, 'milk': {'item': 'milk', 'count': 2, 'children': {'diapers': {'item': 'diapers', 'count': 1, 'children': {'beer': {'item': 'beer', 'count': 1, 'children': {'chips': {'item': 'chips', 'count': 1, 'children': {}, 'parent': {...}}}, 'parent': {...}}}, 'parent': {...}}, 'eggs': {'item': 'eggs', 'count': 1, 'children': {'cola': {'item': 'cola', 'count': 1, 'children': {}, 'parent': {...}}}, 'parent': {...}}}, 'parent': {...}}, 'diapers': {'item': 'diapers', 'count': 1, 'children': {'beer': {'item': 'beer', 'count': 1, 'children': {'eggs': {'item': 'eggs', 'count': 1, 'children': {}, 'parent': {...}}}, 'parent': {...}}}, 'parent': {...}}}, 'parent': None}}}}, 'cola': {'item': 'cola', 'count': 1, 'children': {}, 'parent': {'item': 'beer', 'count': 1, 'children': {'cola': {...}}, 'parent': {'item': 'diapers', 'count': 1, 'children': {'beer': {...}}, 'parent': {'item': 'bread', 'count': 7, 'children': {'milk': {'item': 'milk', 'count': 5, 'children': {'eggs': {'item': 'eggs', 'count': 2, 'children': {'cola': {'item': 'cola', 'count': 1, 'children': {}, 'parent': {...}}}, 'parent': {...}}, 'diapers': {'item': 'diapers', 'count': 3, 'children': {'beer': {'item': 'beer', 'count': 1, 'children': {}, 'parent': {...}}}, 'parent': {...}}}, 'parent': {...}}, 'diapers': {...}, 'beer': {'item': 'beer', 'count': 1, 'children': {'chips': {'item': 'chips', 'count': 1, 'children': {}, 'parent': {...}}}, 'parent': {...}}}, 'parent': {'item': None, 'count': 0, 'children': {'bread': {...}, 'milk': {'item': 'milk', 'count': 2, 'children': {'diapers': {'item': 'diapers', 'count': 1, 'children': {'beer': {'item': 'beer', 'count': 1, 'children': {'chips': {'item': 'chips', 'count': 1, 'children': {}, 'parent': {...}}}, 'parent': {...}}}, 'parent': {...}}, 'eggs': {'item': 'eggs', 'count': 1, 'children': {'cola': {'item': 'cola', 'count': 1, 'children': {}, 'parent': {...}}}, 'parent': {...}}}, 'parent': {...}}, 'diapers': {'item': 'diapers', 'count': 1, 'children': {'beer': {'item': 'beer', 'count': 1, 'children': {'eggs': {'item': 'eggs', 'count': 1, 'children': {}, 'parent': {...}}}, 'parent': {...}}}, 'parent': {...}}}, 'parent': None}}}}}, 'chips': {'item': 'chips', 'count': 1, 'children': {}, 'parent': {'item': 'beer', 'count': 1, 'children': {'chips': {...}}, 'parent': {'item': 'diapers', 'count': 1, 'children': {'beer': {...}}, 'parent': {'item': 'milk', 'count': 2, 'children': {'diapers': {...}, 'eggs': {'item': 'eggs', 'count': 1, 'children': {'cola': {'item': 'cola', 'count': 1, 'children': {}, 'parent': {...}}}, 'parent': {...}}}, 'parent': {'item': None, 'count': 0, 'children': {'bread': {'item': 'bread', 'count': 7, 'children': {'milk': {'item': 'milk', 'count': 5, 'children': {'eggs': {'item': 'eggs', 'count': 2, 'children': {'cola': {'item': 'cola', 'count': 1, 'children': {}, 'parent': {...}}}, 'parent': {...}}, 'diapers': {'item': 'diapers', 'count': 3, 'children': {'beer': {'item': 'beer', 'count': 1, 'children': {}, 'parent': {...}}}, 'parent': {...}}}, 'parent': {...}}, 'diapers': {'item': 'diapers', 'count': 1, 'children': {'beer': {'item': 'beer', 'count': 1, 'children': {'cola': {'item': 'cola', 'count': 1, 'children': {}, 'parent': {...}}}, 'parent': {...}}}, 'parent': {...}}, 'beer': {'item': 'beer', 'count': 1, 'children': {'chips': {'item': 'chips', 'count': 1, 'children': {}, 'parent': {...}}}, 'parent': {...}}}, 'parent': {...}}, 'milk': {...}, 'diapers': {'item': 'diapers', 'count': 1, 'children': {'beer': {'item': 'beer', 'count': 1, 'children': {'eggs': {'item': 'eggs', 'count': 1, 'children': {}, 'parent': {...}}}, 'parent': {...}}}, 'parent': {...}}}, 'parent': None}}}}}}, 'item_frequencies': {'bread': 7, 'milk': 7, 'eggs': 4, 'diapers': 6, 'beer': 5, 'cola': 3, 'chips': 2}, 'transactions': [['bread', 'milk', 'eggs'], ['bread', 'diapers', 'beer', 'cola'], ['milk', 'diapers', 'beer', 'chips'], ['bread', 'milk', 'diapers', 'beer'], ['bread', 'milk', 'eggs', 'cola'], ['bread', 'milk', 'diapers'], ['diapers', 'beer', 'eggs'], ['bread', 'beer', 'chips'], ['bread', 'milk', 'diapers'], ['milk', 'eggs', 'cola']]}\n"
     ]
    }
   ],
   "source": [
    "fpt = construct_fp_tree(filtered)\n",
    "print(fpt)"
   ]
  },
  {
   "cell_type": "code",
   "execution_count": 12,
   "metadata": {},
   "outputs": [
    {
     "name": "stdout",
     "output_type": "stream",
     "text": [
      "{frozenset({'bread'}): 7, frozenset({'milk'}): 7, frozenset({'eggs'}): 4, frozenset({'diapers'}): 6, frozenset({'beer'}): 5, frozenset({'cola'}): 3, frozenset({'chips'}): 2}\n"
     ]
    }
   ],
   "source": [
    "def find_frequent_itemsets(filtered_transactions, item_frequencies, min_support=2):\n",
    "   \n",
    "    frequent_itemsets = {}\n",
    "    \n",
    "    for item, count in item_frequencies.items():\n",
    "        if count >= min_support:\n",
    "            frequent_itemsets[frozenset([item])] = count\n",
    "    \n",
    "    return frequent_itemsets\n",
    "print(find_frequent_itemsets(filtered, freq, min_support=2))"
   ]
  },
  {
   "cell_type": "code",
   "execution_count": null,
   "metadata": {},
   "outputs": [
    {
     "name": "stdout",
     "output_type": "stream",
     "text": [
      "{'item_frequencies': defaultdict(<class 'int'>, {'bread': 7, 'milk': 7, 'eggs': 4, 'diapers': 6, 'beer': 5, 'cola': 3, 'chips': 2}), 'filtered_transactions': [['bread', 'milk', 'eggs'], ['bread', 'diapers', 'beer', 'cola'], ['milk', 'diapers', 'beer', 'chips'], ['bread', 'milk', 'diapers', 'beer'], ['bread', 'milk', 'eggs', 'cola'], ['bread', 'milk', 'diapers'], ['diapers', 'beer', 'eggs'], ['bread', 'beer', 'chips'], ['bread', 'milk', 'diapers'], ['milk', 'eggs', 'cola']], 'frequent_itemsets': {frozenset({'bread'}): 7, frozenset({'milk'}): 7, frozenset({'eggs'}): 4, frozenset({'diapers'}): 6, frozenset({'beer'}): 5, frozenset({'cola'}): 3, frozenset({'chips'}): 2}, 'fp_tree': {'children': {'bread': {'item': 'bread', 'count': 7, 'children': {'milk': {'item': 'milk', 'count': 5, 'children': {'eggs': {'item': 'eggs', 'count': 2, 'children': {'cola': {'item': 'cola', 'count': 1, 'children': {}, 'parent': {...}}}, 'parent': {...}}, 'diapers': {'item': 'diapers', 'count': 3, 'children': {'beer': {'item': 'beer', 'count': 1, 'children': {}, 'parent': {...}}}, 'parent': {...}}}, 'parent': {...}}, 'diapers': {'item': 'diapers', 'count': 1, 'children': {'beer': {'item': 'beer', 'count': 1, 'children': {'cola': {'item': 'cola', 'count': 1, 'children': {}, 'parent': {...}}}, 'parent': {...}}}, 'parent': {...}}, 'beer': {'item': 'beer', 'count': 1, 'children': {'chips': {'item': 'chips', 'count': 1, 'children': {}, 'parent': {...}}}, 'parent': {...}}}, 'parent': {...}}, 'milk': {'item': 'milk', 'count': 2, 'children': {'diapers': {'item': 'diapers', 'count': 1, 'children': {'beer': {'item': 'beer', 'count': 1, 'children': {'chips': {'item': 'chips', 'count': 1, 'children': {}, 'parent': {...}}}, 'parent': {...}}}, 'parent': {...}}, 'eggs': {'item': 'eggs', 'count': 1, 'children': {'cola': {'item': 'cola', 'count': 1, 'children': {}, 'parent': {...}}}, 'parent': {...}}}, 'parent': {...}}, 'diapers': {'item': 'diapers', 'count': 1, 'children': {'beer': {'item': 'beer', 'count': 1, 'children': {'eggs': {'item': 'eggs', 'count': 1, 'children': {}, 'parent': {...}}}, 'parent': {...}}}, 'parent': {...}}}, 'count': None, 'item': None}}\n"
     ]
    }
   ],
   "source": [
    "def fp_tree_analysis(transactions, min_support=2):\n",
    "\n",
    "    item_frequencies = calculate_item_frequencies(transactions)\n",
    "    \n",
    "    filtered_transactions = filter_transactions(\n",
    "        transactions, \n",
    "        item_frequencies, \n",
    "        min_support\n",
    "    )\n",
    "    \n",
    "    # Construct FP-Tree\n",
    "    fp_tree, header_table = construct_fp_tree(filtered_transactions)\n",
    "    \n",
    "    # Find frequent itemsets\n",
    "    frequent_itemsets = find_frequent_itemsets(\n",
    "        filtered_transactions, \n",
    "        item_frequencies, \n",
    "        min_support\n",
    "    )\n",
    "    \n",
    "    return {\n",
    "        'item_frequencies': item_frequencies,\n",
    "        'filtered_transactions': filtered_transactions,\n",
    "        'frequent_itemsets': frequent_itemsets,\n",
    "        'fp_tree': fp_tree\n",
    "    }\n",
    "\n",
    "print(fp_tree_analysis(transactions, min_support=2))"
   ]
  },
  {
   "cell_type": "code",
   "execution_count": 14,
   "metadata": {},
   "outputs": [
    {
     "name": "stdout",
     "output_type": "stream",
     "text": [
      "Item Frequencies:\n",
      "bread: 7\n",
      "milk: 7\n",
      "eggs: 4\n",
      "diapers: 6\n",
      "beer: 5\n",
      "cola: 3\n",
      "chips: 2\n",
      "\n",
      "Frequent Itemsets:\n",
      "['bread']: 7\n",
      "['milk']: 7\n",
      "['eggs']: 4\n",
      "['diapers']: 6\n",
      "['beer']: 5\n",
      "['cola']: 3\n",
      "['chips']: 2\n",
      "\n",
      "Maximum Frequent Itemset: ['bread'] (Support: 7)\n",
      "\n",
      "Total Transactions: 10\n"
     ]
    }
   ],
   "source": [
    "analysis_results = fp_tree_analysis(transactions, min_support=2)\n",
    "\n",
    "print(\"Item Frequencies:\")\n",
    "for item, freq in analysis_results['item_frequencies'].items():\n",
    "    print(f\"{item}: {freq}\")\n",
    "\n",
    "print(\"\\nFrequent Itemsets:\")\n",
    "for itemset, support in analysis_results['frequent_itemsets'].items():\n",
    "    print(f\"{list(itemset)}: {support}\")\n",
    "\n",
    "# a) Maximum Frequent Itemset\n",
    "max_frequent_itemset = max(\n",
    "    analysis_results['frequent_itemsets'], \n",
    "    key=lambda x: analysis_results['frequent_itemsets'][x]\n",
    ")\n",
    "print(f\"\\nMaximum Frequent Itemset: {list(max_frequent_itemset)} \" +\n",
    "      f\"(Support: {analysis_results['frequent_itemsets'][max_frequent_itemset]})\")\n",
    "\n",
    "# b) Number of Transactions\n",
    "print(f\"\\nTotal Transactions: {len(transactions)}\")\n"
   ]
  },
  {
   "cell_type": "code",
   "execution_count": null,
   "metadata": {},
   "outputs": [],
   "source": []
  }
 ],
 "metadata": {
  "kernelspec": {
   "display_name": "Python 3",
   "language": "python",
   "name": "python3"
  },
  "language_info": {
   "codemirror_mode": {
    "name": "ipython",
    "version": 3
   },
   "file_extension": ".py",
   "mimetype": "text/x-python",
   "name": "python",
   "nbconvert_exporter": "python",
   "pygments_lexer": "ipython3",
   "version": "3.12.0"
  }
 },
 "nbformat": 4,
 "nbformat_minor": 2
}
